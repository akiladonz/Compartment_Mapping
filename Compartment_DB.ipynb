{
 "cells": [
  {
   "cell_type": "code",
   "execution_count": 1,
   "metadata": {},
   "outputs": [],
   "source": [
    "Lines= []\n",
    "f = open(r'C:\\Users\\katuwawalaai\\Subcellular_Mapping\\uniprot__Homosapiens.tab')\n",
    "for line in f:\n",
    "    data_line = line.rstrip().split('\\t')\n",
    "    Lines.append(data_line)"
   ]
  },
  {
   "cell_type": "code",
   "execution_count": 2,
   "metadata": {},
   "outputs": [],
   "source": [
    "#getting Uniprot Ids whcih has no location annotation in Uniprot\n",
    "Uniprot_ID=[]\n",
    "GO_Annotation=[]\n",
    "b =0\n",
    "for b in range(1,len(Lines),1):\n",
    "    Uniprot_ID.append(Lines[b][0])\n",
    "    try:\n",
    "      GO_Annotation.append(Lines[b][3])\n",
    "    except:\n",
    "      GO_Annotation.append('')"
   ]
  },
  {
   "cell_type": "code",
   "execution_count": 3,
   "metadata": {},
   "outputs": [],
   "source": [
    "b=0\n",
    "No_AnnoProt=0\n",
    "No_AnnoUni=[]\n",
    "for b in range(1,len(GO_Annotation),1):\n",
    "     if GO_Annotation[b] == '':\n",
    "                       No_AnnoProt=No_AnnoProt+1\n",
    "                       No_AnnoUni.append(Uniprot_ID[b])"
   ]
  },
  {
   "cell_type": "code",
   "execution_count": 37,
   "metadata": {},
   "outputs": [
    {
     "data": {
      "text/plain": [
       "1888"
      ]
     },
     "execution_count": 37,
     "metadata": {},
     "output_type": "execute_result"
    }
   ],
   "source": [
    "len(No_AnnoUni)"
   ]
  },
  {
   "cell_type": "code",
   "execution_count": 5,
   "metadata": {},
   "outputs": [],
   "source": [
    "Lines= []\n",
    "f = open(r'C:\\Users\\katuwawalaai\\Subcellular_Mapping\\human.uniprot_2_string.2018.tsv')\n",
    "for line in f:\n",
    "    data_line = line.rstrip().split('\\t')\n",
    "    Lines.append(data_line)"
   ]
  },
  {
   "cell_type": "code",
   "execution_count": 18,
   "metadata": {},
   "outputs": [],
   "source": [
    "Uniprot_Code=[]\n",
    "String_ID=[]\n",
    "b =0\n",
    "for b in range(1,len(Lines),1):\n",
    "        yu=Lines[b][1].split('|')\n",
    "        Uniprot_Code.append(yu[0])\n",
    "        tu=Lines[b][2].split('.')\n",
    "        String_ID.append(tu[1])"
   ]
  },
  {
   "cell_type": "code",
   "execution_count": 20,
   "metadata": {},
   "outputs": [
    {
     "data": {
      "text/plain": [
       "19183"
      ]
     },
     "execution_count": 20,
     "metadata": {},
     "output_type": "execute_result"
    }
   ],
   "source": [
    "len(String_ID)"
   ]
  },
  {
   "cell_type": "code",
   "execution_count": 24,
   "metadata": {},
   "outputs": [],
   "source": [
    "#getting the String IDs of uniprot IDs whcih has no location annotation in Uniprot\n",
    "b=0\n",
    "additional=0\n",
    "Additional_Uniprot=[]\n",
    "Additional_String=[]\n",
    "for b in range(1,len(Uniprot_Code),1):\n",
    "    if Uniprot_Code[b] in No_AnnoUni:\n",
    "                  additional=additional+1\n",
    "                  Additional_Uniprot.append(Uniprot_Code[b])\n",
    "                  Additional_String.append(String_ID[b])"
   ]
  },
  {
   "cell_type": "code",
   "execution_count": 28,
   "metadata": {},
   "outputs": [],
   "source": [
    "Lines= []\n",
    "f = open(r'C:\\Users\\katuwawalaai\\Subcellular_Mapping\\human_compartment_integrated_full.tsv')\n",
    "for line in f:\n",
    "    data_line = line.rstrip().split('\\t')\n",
    "    Lines.append(data_line)"
   ]
  },
  {
   "cell_type": "code",
   "execution_count": 30,
   "metadata": {},
   "outputs": [],
   "source": [
    "Compartment_ID=[]\n",
    "Compartment_GO=[]\n",
    "b =0\n",
    "for b in range(1,len(Lines),1):\n",
    "             Compartment_ID.append(Lines[b][0])\n",
    "             yu=Lines[b][2].split(':')\n",
    "             Compartment_GO.append(yu[1])"
   ]
  },
  {
   "cell_type": "code",
   "execution_count": 34,
   "metadata": {},
   "outputs": [
    {
     "name": "stderr",
     "output_type": "stream",
     "text": [
      "C:\\Users\\katuwawalaai\\AppData\\Local\\Continuum\\anaconda3\\lib\\site-packages\\ipykernel_launcher.py:5: TqdmDeprecationWarning: This function will be removed in tqdm==5.0.0\n",
      "Please use `tqdm.notebook.tqdm` instead of `tqdm.tqdm_notebook`\n",
      "  \"\"\"\n"
     ]
    },
    {
     "data": {
      "application/vnd.jupyter.widget-view+json": {
       "model_id": "290b924de6704ffa8f642a116e25c8e3",
       "version_major": 2,
       "version_minor": 0
      },
      "text/plain": [
       "HBox(children=(IntProgress(value=0, max=4155818), HTML(value='')))"
      ]
     },
     "metadata": {},
     "output_type": "display_data"
    },
    {
     "name": "stdout",
     "output_type": "stream",
     "text": [
      "\n"
     ]
    }
   ],
   "source": [
    "from tqdm import tnrange, notebook.tqdm\n",
    "Matching_Uniprot=[]\n",
    "Matching_GO=[]\n",
    "b=0\n",
    "for b in tqdm_notebook(range(1,len(Compartment_ID),1)):\n",
    "             c=0\n",
    "             for c in range(1,len(Additional_String),1):\n",
    "                   if Compartment_ID[b]==Additional_String[c]:\n",
    "                                   Matching_Uniprot.append(Additional_Uniprot[c])\n",
    "                                   Matching_GO.append(Compartment_GO[b])"
   ]
  },
  {
   "cell_type": "code",
   "execution_count": 38,
   "metadata": {},
   "outputs": [
    {
     "data": {
      "text/plain": [
       "1320"
      ]
     },
     "execution_count": 38,
     "metadata": {},
     "output_type": "execute_result"
    }
   ],
   "source": [
    "len(set(Matching_Uniprot))"
   ]
  },
  {
   "cell_type": "code",
   "execution_count": 40,
   "metadata": {},
   "outputs": [
    {
     "data": {
      "text/html": [
       "<div>\n",
       "<style scoped>\n",
       "    .dataframe tbody tr th:only-of-type {\n",
       "        vertical-align: middle;\n",
       "    }\n",
       "\n",
       "    .dataframe tbody tr th {\n",
       "        vertical-align: top;\n",
       "    }\n",
       "\n",
       "    .dataframe thead th {\n",
       "        text-align: right;\n",
       "    }\n",
       "</style>\n",
       "<table border=\"1\" class=\"dataframe\">\n",
       "  <thead>\n",
       "    <tr style=\"text-align: right;\">\n",
       "      <th></th>\n",
       "      <th>Matching_Uniprot</th>\n",
       "      <th>Matching_GO</th>\n",
       "    </tr>\n",
       "  </thead>\n",
       "  <tbody>\n",
       "    <tr>\n",
       "      <th>0</th>\n",
       "      <td>Q92567</td>\n",
       "      <td>0005575</td>\n",
       "    </tr>\n",
       "    <tr>\n",
       "      <th>1</th>\n",
       "      <td>Q92567</td>\n",
       "      <td>0005622</td>\n",
       "    </tr>\n",
       "    <tr>\n",
       "      <th>2</th>\n",
       "      <td>Q92567</td>\n",
       "      <td>0044424</td>\n",
       "    </tr>\n",
       "    <tr>\n",
       "      <th>3</th>\n",
       "      <td>Q92567</td>\n",
       "      <td>0005623</td>\n",
       "    </tr>\n",
       "    <tr>\n",
       "      <th>4</th>\n",
       "      <td>Q92567</td>\n",
       "      <td>0044464</td>\n",
       "    </tr>\n",
       "  </tbody>\n",
       "</table>\n",
       "</div>"
      ],
      "text/plain": [
       "  Matching_Uniprot Matching_GO\n",
       "0           Q92567     0005575\n",
       "1           Q92567     0005622\n",
       "2           Q92567     0044424\n",
       "3           Q92567     0005623\n",
       "4           Q92567     0044464"
      ]
     },
     "execution_count": 40,
     "metadata": {},
     "output_type": "execute_result"
    }
   ],
   "source": [
    "import pandas as pd\n",
    "Matching_Frame=pd.DataFrame({'Matching_Uniprot':Matching_Uniprot, \n",
    "'Matching_GO':Matching_GO})\n",
    "Matching_Frame.head()"
   ]
  },
  {
   "cell_type": "code",
   "execution_count": 41,
   "metadata": {},
   "outputs": [],
   "source": [
    "Matching_Frame.to_csv('Compartment_Match.csv')"
   ]
  },
  {
   "cell_type": "code",
   "execution_count": null,
   "metadata": {},
   "outputs": [],
   "source": []
  }
 ],
 "metadata": {
  "kernelspec": {
   "display_name": "Python 3",
   "language": "python",
   "name": "python3"
  },
  "language_info": {
   "codemirror_mode": {
    "name": "ipython",
    "version": 3
   },
   "file_extension": ".py",
   "mimetype": "text/x-python",
   "name": "python",
   "nbconvert_exporter": "python",
   "pygments_lexer": "ipython3",
   "version": "3.7.6"
  }
 },
 "nbformat": 4,
 "nbformat_minor": 2
}
